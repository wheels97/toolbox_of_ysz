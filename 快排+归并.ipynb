{
 "cells": [
  {
   "cell_type": "markdown",
   "metadata": {},
   "source": [
    "# quicksort "
   ]
  },
  {
   "cell_type": "code",
   "execution_count": 1,
   "metadata": {},
   "outputs": [],
   "source": [
    "def qsort(num):\n",
    "    if len(num)<2:\n",
    "        return num\n",
    "    n = len(num)//2\n",
    "    mid = num[n]\n",
    "    num.remove(mid)\n",
    "    left,right = [],[]\n",
    "    for j in range(len(num)):            \n",
    "        if num[j]<=mid:\n",
    "            left.append(num[j])\n",
    "        else:\n",
    "            right.append(num[j])\n",
    "    return qsort(left)+[mid]+qsort(right)  "
   ]
  },
  {
   "cell_type": "markdown",
   "metadata": {},
   "source": [
    "# mergesort"
   ]
  },
  {
   "cell_type": "code",
   "execution_count": 78,
   "metadata": {},
   "outputs": [],
   "source": [
    "def merge(s1,s2,s):\n",
    "    #要在s上改，不然无法记录进循环\n",
    "    d1,d2 = 0,0\n",
    "    while d1+d2<len(s):\n",
    "        if d2==len(s2) or (d1<len(s1) and s1[d1]<s2[d2]):\n",
    "            s[d1+d2] = s1[d1]\n",
    "            d1 += 1\n",
    "        else:\n",
    "            s[d1+d2] = s2[d2]\n",
    "            d2 += 1\n",
    "    return s\n",
    "\n",
    "def merge_sort(s):\n",
    "    if len(s)<2:\n",
    "        return\n",
    "    mid = len(s)//2\n",
    "    s1 = s[0:mid]\n",
    "    s2 = s[mid:len(s)]\n",
    "    merge_sort(s1)\n",
    "    merge_sort(s2)\n",
    "    return merge(s1,s2,s)"
   ]
  },
  {
   "cell_type": "code",
   "execution_count": 79,
   "metadata": {},
   "outputs": [],
   "source": [
    "a = [1,5,8,1,3,5,9,4]"
   ]
  },
  {
   "cell_type": "code",
   "execution_count": 80,
   "metadata": {},
   "outputs": [
    {
     "data": {
      "text/plain": [
       "[1, 1, 3, 4, 5, 5, 8, 9]"
      ]
     },
     "execution_count": 80,
     "metadata": {},
     "output_type": "execute_result"
    }
   ],
   "source": [
    "merge_sort(a)"
   ]
  },
  {
   "cell_type": "code",
   "execution_count": null,
   "metadata": {},
   "outputs": [],
   "source": []
  }
 ],
 "metadata": {
  "kernelspec": {
   "display_name": "Python 3",
   "language": "python",
   "name": "python3"
  },
  "language_info": {
   "codemirror_mode": {
    "name": "ipython",
    "version": 3
   },
   "file_extension": ".py",
   "mimetype": "text/x-python",
   "name": "python",
   "nbconvert_exporter": "python",
   "pygments_lexer": "ipython3",
   "version": "3.7.4"
  }
 },
 "nbformat": 4,
 "nbformat_minor": 2
}
