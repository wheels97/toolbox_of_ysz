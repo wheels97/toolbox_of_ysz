{
 "cells": [
  {
   "cell_type": "code",
   "execution_count": 2,
   "metadata": {},
   "outputs": [],
   "source": [
    "import cv2\n",
    "import matplotlib.pyplot as plt\n",
    "import numpy as np\n",
    "\n",
    "gray_level = 256  # 图像灰度值从0到255，白色为255，黑色为0"
   ]
  },
  {
   "cell_type": "code",
   "execution_count": 76,
   "metadata": {},
   "outputs": [],
   "source": [
    "def probability(img):\n",
    "    \"\"\"\n",
    "    计算像素值出现概率\n",
    "    \"\"\"\n",
    "    assert isinstance(img, np.ndarray)\n",
    "\n",
    "    prob = np.zeros(shape=(256))\n",
    "\n",
    "    for row in img:\n",
    "        for num in row:\n",
    "            prob[num] += 1\n",
    "\n",
    "    row, column = img.shape\n",
    "    prob = prob / (row * column)\n",
    "\n",
    "    return prob\n",
    "\n",
    "def plot(y, name):\n",
    "    \"\"\"\n",
    "    画直方图，len(y)==gray_level\n",
    "    \"\"\"\n",
    "    plt.figure(num=name)\n",
    "    plt.bar([i for i in range(gray_level)], y, width=1)\n"
   ]
  },
  {
   "cell_type": "code",
   "execution_count": 4,
   "metadata": {},
   "outputs": [],
   "source": [
    "# def main():\n",
    "#     # 读取灰度图\n",
    "#     img = cv2.imread(\"1.jpg\", 0) #图1\n",
    "\n",
    "#     # 计算归一化后的灰度概率并绘制直方图\n",
    "#     prob = probability(img)\n",
    "#     plot(prob, \"原图灰度直方图\") #图2\n",
    "\n",
    "#     # 直方图均衡化\n",
    "#     img = probability_to_histogram(img, prob)\n",
    "#     cv2.imwrite(r\"after_balance.jpg\", img) #图3\n",
    "#     prob = probability(img)\n",
    "#     plot(prob, \"直方图均衡化结果\") #图4\n",
    "\n",
    "#     # 直方图规定化\n",
    "#     img = cv2.imread(\"after_balance.jpg\", 0)\n",
    "#     scr = cv2.imread(\"target.jpg\", 0)  #图5\n",
    "#     plot(probability(scr), \"目标图灰度直方图\")  #图6\n",
    "#     result = histogram_specification(img,scr)\n",
    "#     cv2.imshow(\"规定化后的图像\", result)\n",
    "#     cv2.imwrite(r\"after_specification.jpg\", img) #图7\n",
    "#     cv2.waitKey(0)\n",
    "#     plt.hist(result.ravel(), 256) #图8\n",
    "#     plt.show()\n",
    "\n",
    "\n",
    "#     # 局部直方图处理\n",
    "#     img = cv2.imread('./local.jpg',0)  #图9\n",
    "#     histogram_local(img) # 图10"
   ]
  },
  {
   "cell_type": "code",
   "execution_count": 13,
   "metadata": {},
   "outputs": [
    {
     "data": {
      "image/png": "[encoded data removed]",
      "text/plain": [
       "<Figure size 432x288 with 1 Axes>"
      ]
     },
     "metadata": {
      "needs_background": "light"
     },
     "output_type": "display_data"
    }
   ],
   "source": [
    "img = cv2.imread('imgs/1.2.jpg',0) \n",
    "prob = probability(img)\n",
    "plot(prob, \"原图灰度直方图\")"
   ]
  },
  {
   "cell_type": "code",
   "execution_count": 14,
   "metadata": {},
   "outputs": [
    {
     "data": {
      "image/png": "[encoded data removed]",
      "text/plain": [
       "<Figure size 432x288 with 1 Axes>"
      ]
     },
     "metadata": {
      "needs_background": "light"
     },
     "output_type": "display_data"
    }
   ],
   "source": [
    "def probability_to_histogram(img, prob):\n",
    "    \"\"\"\n",
    "    根据像素概率将原始图像直方图均衡化\n",
    "    :return: 直方图均衡化后的图像\n",
    "    \"\"\"\n",
    "    prob = np.cumsum(prob)  # 累计概率\n",
    "\n",
    "    img_map = [int(i * prob[i]) for i in range(256)]  # 像素值映射\n",
    "\n",
    "   # 像素值替换\n",
    "    assert isinstance(img, np.ndarray)\n",
    "    r, c = img.shape\n",
    "    for ri in range(r):\n",
    "        for ci in range(c):\n",
    "            img[ri, ci] = img_map[img[ri, ci]]\n",
    "\n",
    "    return img\n",
    "\n",
    "img_balance = probability_to_histogram(img, prob)\n",
    "cv2.imwrite(r\"imgs/after_balance.jpg\", img_balance)\n",
    "prob = probability(img_balance)\n",
    "plot(prob, \"原图灰度直方图\")"
   ]
  },
  {
   "cell_type": "code",
   "execution_count": 50,
   "metadata": {},
   "outputs": [
    {
     "data": {
      "image/png": "[encoded data removed]",
      "text/plain": [
       "<Figure size 432x288 with 1 Axes>"
      ]
     },
     "metadata": {
      "needs_background": "light"
     },
     "output_type": "display_data"
    }
   ],
   "source": [
    "img = cv2.imread(\"imgs/1.2.jpg\", 0)\n",
    "scr = cv2.imread(\"imgs/1.1.jpg\", 0)  #图5\n",
    "plot(probability(scr), \"目标图灰度直方图\")  #图6"
   ]
  },
  {
   "cell_type": "code",
   "execution_count": 51,
   "metadata": {},
   "outputs": [
    {
     "data": {
      "image/png": "[encoded data removed]",
      "text/plain": [
       "<Figure size 432x288 with 1 Axes>"
      ]
     },
     "metadata": {
      "needs_background": "light"
     },
     "output_type": "display_data"
    }
   ],
   "source": [
    "def histogram_specification(img,scr):\n",
    "    '''\n",
    "    进行直方图的规定化\n",
    "    '''\n",
    "    mHist1 = []\n",
    "    mNum1 = []\n",
    "    inhist1 = []\n",
    "    mHist2 = []\n",
    "    mNum2 = []\n",
    "    inhist2 = []\n",
    "    # 对原图像进行均衡化\n",
    "    for i in range(256):\n",
    "        mHist1.append(0)\n",
    "    row, col = img.shape  # 获取原图像像素点的宽度和高度\n",
    "    for i in range(row):\n",
    "        for j in range(col):\n",
    "            mHist1[img[i, j]] = mHist1[img[i, j]] + 1  # 统计灰度值的个数\n",
    "    mNum1.append(mHist1[0] / img.size)\n",
    "    for i in range(0, 255):\n",
    "        mNum1.append(mNum1[i] + mHist1[i + 1] / img.size)\n",
    "    for i in range(256):\n",
    "        inhist1.append(round(255 * mNum1[i]))\n",
    "    # 对目标图像进行均衡化\n",
    "    for i in range(256):\n",
    "        mHist2.append(0)\n",
    "    rows, cols = scr.shape  # 获取目标图像像素点的宽度和高度\n",
    "    for i in range(rows):\n",
    "        for j in range(cols):\n",
    "            mHist2[scr[i, j]] = mHist2[scr[i, j]] + 1  # 统计灰度值的个数\n",
    "    mNum2.append(mHist2[0] / scr.size)\n",
    "    for i in range(0, 255):\n",
    "        mNum2.append(mNum2[i] + mHist2[i + 1] / scr.size)\n",
    "    for i in range(256):\n",
    "        inhist2.append(round(255 * mNum2[i]))\n",
    "    g = []  # 用于放入规定化后的图片像素\n",
    "    for i in range(256):\n",
    "        a = inhist1[i]\n",
    "        flag = True\n",
    "        for j in range(256):\n",
    "            if inhist2[j] == a:\n",
    "                g.append(j)\n",
    "                flag = False\n",
    "                break\n",
    "        if flag == True:\n",
    "            minp = 255\n",
    "            for j in range(256):\n",
    "                b = abs(inhist2[j] - a)\n",
    "                if b < minp:\n",
    "                    minp = b\n",
    "                    jmin = j\n",
    "            g.append(jmin)\n",
    "    row,col = img.shape\n",
    "    for i in range(row):\n",
    "        for j in range(col):\n",
    "            img[i, j] = g[img[i, j]]\n",
    "    return img\n",
    "\n",
    "result = histogram_specification(img,scr)\n",
    "cv2.imshow(\"规定化后的图像\", result)\n",
    "cv2.imwrite(r\"after_specification.jpg\", img) #图7\n",
    "cv2.waitKey(0)\n",
    "plt.hist(result.ravel(), 256) #图8\n",
    "plt.show()"
   ]
  },
  {
   "cell_type": "code",
   "execution_count": 77,
   "metadata": {},
   "outputs": [],
   "source": [
    "def histogram_local(img):\n",
    "    global hisImg,localHistImg\n",
    "    H = img.shape[0]\n",
    "    W = img.shape[1]\n",
    "\n",
    "    hr = np.zeros(256)  # 原始直方图信息\n",
    "    pr = np.zeros(256)  # 原始图片的概率\n",
    "    rtos = np.zeros(256)  # r->s的映射\n",
    "\n",
    "    # 计算原始图片的像素分布图和概率密度函数\n",
    "    for row in range(H):\n",
    "        for col in range(W):\n",
    "            hr[img[row, col]] += 1\n",
    "\n",
    "    for i in range(256):\n",
    "        pr[i] = hr[i] / (H * W)\n",
    "\n",
    "    for i in range(256):  # i=[0,255]\n",
    "        for j in range(i + 1):  # j=[0,i]\n",
    "            rtos[i] += pr[j]\n",
    "        rtos[i] = round(rtos[i] * 255)  # 四舍五入取整\n",
    "\n",
    "    hisImg = np.zeros((H, W, 3), np.uint8)  # 建立直方图均衡变换之后的图片\n",
    "    for row in range(H):\n",
    "        for col in range(W):\n",
    "            hisImg[row, col] = rtos[img[row, col]]\n",
    "\n",
    "    # 局部直方图变换，使用3*3的邻域统计直方图\n",
    "    localsize = 3  # 邻域的尺寸为3*3，这个邻域值最好为奇数\n",
    "    tempImg = np.zeros((H + localsize - 1, W + localsize - 1, 3), np.uint8)  # 创建一个边界大一半领域像素的值，以便统计边缘像素\n",
    "    localHistImg = np.zeros((H, W, 3), np.uint8)  # 存储新图\n",
    "    for row in range(H):\n",
    "        for col in range(W):\n",
    "            tempImg[row + (localsize - 1) // 2, col + (localsize - 1) // 2] = img[row, col]\n",
    "    for row in range((localsize - 1) // 2, H + (localsize - 1) // 2):\n",
    "        for col in range((localsize - 1) // 2, W + (localsize - 1) // 2):  # 外层大循环\n",
    "            # 每行统计新加入的点和删除的点是否具有相同的灰度值，这里localsize是3，所以用row,row-1,row+1三行\n",
    "            # 只要比较0通道的值就行，对于灰度图来说，三个通道的值相同\n",
    "            if row <= (localsize - 1) // 2 or col <= (localsize - 1) // 2 \\\n",
    "                    or row > H - 1 or col > W - 1 \\\n",
    "                    or tempImg[row, col - 2, 0] != tempImg[row, col + 2, 0] \\\n",
    "                    or tempImg[row - 1, col - 2, 0] != tempImg[row - 1, col + 2, 0] \\\n",
    "                    or tempImg[row + 1, col - 2, 0] != tempImg[row + 1, col + 2, 0]:\n",
    "                # 每一行一列重新计算概率分布\n",
    "                for i in range(256):\n",
    "                    pr[i] = 0\n",
    "                    rtos[i] = 0\n",
    "                for i in range(localsize):\n",
    "                    for j in range(localsize):\n",
    "                        pr[tempImg[row + (i - (localsize - 1) // 2), col + (j - (localsize - 1) // 2)]] += 1\n",
    "                for i in range(256):\n",
    "                    for j in range(i + 1):\n",
    "                        rtos[i] += pr[j]\n",
    "                    rtos[i] = round(rtos[i] * 255 / (localsize * localsize))\n",
    "            localHistImg[row - (localsize - 1) // 2, col - (localsize - 1) // 2] = rtos[tempImg[row, col]]\n",
    "            \n",
    "img = cv2.imread('imgs/1.5.jpg',0)  #图9\n",
    "histogram_local(img) # 图10"
   ]
  },
  {
   "cell_type": "code",
   "execution_count": 79,
   "metadata": {},
   "outputs": [
    {
     "data": {
      "text/plain": [
       "True"
      ]
     },
     "execution_count": 79,
     "metadata": {},
     "output_type": "execute_result"
    }
   ],
   "source": [
    "cv2.imwrite(\"imgs/after_his.jpg\",hisImg)\n",
    "cv2.imwrite(\"imgs/after_local.jpg\",localHistImg)"
   ]
  },
  {
   "cell_type": "code",
   "execution_count": 72,
   "metadata": {},
   "outputs": [],
   "source": [
    "cv2.destroyAllWindows()"
   ]
  }
 ],
 "metadata": {
  "kernelspec": {
   "display_name": "Python 3",
   "language": "python",
   "name": "python3"
  },
  "language_info": {
   "codemirror_mode": {
    "name": "ipython",
    "version": 3
   },
   "file_extension": ".py",
   "mimetype": "text/x-python",
   "name": "python",
   "nbconvert_exporter": "python",
   "pygments_lexer": "ipython3",
   "version": "3.8.5"
  }
 },
 "nbformat": 4,
 "nbformat_minor": 4
}
