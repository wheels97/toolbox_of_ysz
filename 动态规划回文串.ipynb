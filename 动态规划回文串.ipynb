{
 "cells": [
  {
   "cell_type": "code",
   "execution_count": 1,
   "metadata": {},
   "outputs": [],
   "source": [
    "import numpy as np"
   ]
  },
  {
   "cell_type": "code",
   "execution_count": 2,
   "metadata": {},
   "outputs": [],
   "source": [
    "strr = 'asdfcahsfgcbqehbasdfgfdsa'\n",
    "l = int(len(strr))\n",
    "dp = np.zeros([l,l])\n",
    "maxlen = 0\n",
    "maxstr = ''"
   ]
  },
  {
   "cell_type": "code",
   "execution_count": 3,
   "metadata": {},
   "outputs": [
    {
     "name": "stdout",
     "output_type": "stream",
     "text": [
      "i=2,19-21\n",
      "i=4,18-22\n",
      "i=6,17-23\n",
      "i=8,16-24\n",
      "9 asdfgfdsa\n"
     ]
    }
   ],
   "source": [
    "for i in range(l):\n",
    "    dp[i][i] = 1\n",
    "for i in range(l-1):\n",
    "    if strr[i] == strr[i+1]:\n",
    "        dp[i][i+1]=1\n",
    "        \n",
    "havei = 0#用于判断连续两次循环没有找到更长回文\n",
    "\n",
    "for i in range(2,l):\n",
    "    end = 0\n",
    "    for j in range(0,l-i):\n",
    "        if strr[j] == strr[j+i] and dp[j+1][j+i-1]==1:\n",
    "            dp[j][j+i] = 1\n",
    "            maxlen = i+1\n",
    "            print('i={},{}-{}'.format(i,j,j+i))\n",
    "            maxstr = strr[j:j+i+1]\n",
    "            end = 1\n",
    "            if havei == 1:\n",
    "                havei = 0\n",
    "    if end == 0:\n",
    "        havei += 1\n",
    "    if havei == 2:\n",
    "        break\n",
    "print(maxlen,maxstr)"
   ]
  },
  {
   "cell_type": "code",
   "execution_count": null,
   "metadata": {},
   "outputs": [],
   "source": []
  }
 ],
 "metadata": {
  "kernelspec": {
   "display_name": "Python 3",
   "language": "python",
   "name": "python3"
  },
  "language_info": {
   "codemirror_mode": {
    "name": "ipython",
    "version": 3
   },
   "file_extension": ".py",
   "mimetype": "text/x-python",
   "name": "python",
   "nbconvert_exporter": "python",
   "pygments_lexer": "ipython3",
   "version": "3.7.1"
  }
 },
 "nbformat": 4,
 "nbformat_minor": 2
}
