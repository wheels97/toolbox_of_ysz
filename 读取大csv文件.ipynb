{
 "cells": [
  {
   "cell_type": "markdown",
   "metadata": {},
   "source": [
    "# 创建句柄法"
   ]
  },
  {
   "cell_type": "code",
   "execution_count": null,
   "metadata": {},
   "outputs": [],
   "source": [
    "from random import randint\n",
    "\n",
    "with open('causaldata_sample.csv', 'w') as sample_file:\n",
    "    sample_cnt = 0\n",
    "    for line in open('causaldata.csv'):\n",
    "        if randint(0, 7000000) <= 1:\n",
    "            sample_file.write(line)\n",
    "            sample_cnt += 1\n",
    "            if sample_cnt == 1000000:\n",
    "                break\n",
    "sample_cnt"
   ]
  },
  {
   "cell_type": "markdown",
   "metadata": {},
   "source": [
    "# pandas迭代器（append方法会比较慢）"
   ]
  },
  {
   "cell_type": "code",
   "execution_count": null,
   "metadata": {},
   "outputs": [],
   "source": [
    "# data = pd.read_csv('causaldata.csv',)#文件太大读不了\n",
    "\n",
    "from random import randint\n",
    "# 读取融合的CSV文件\n",
    "merge_dt = pd.read_csv( 'causaldata.csv', encoding=\"utf_8\", engine='python' ,iterator = True ) \n",
    "data = merge_dt.get_chunk(1)\n",
    "for i in range(700000):\n",
    "    l = randint(0,70)\n",
    "    if l == 1:\n",
    "        data = data.append(merge_dt.get_chunk(100))\n",
    "    else:\n",
    "        a = merge_dt.get_chunk(100)\n",
    "data"
   ]
  }
 ],
 "metadata": {
  "kernelspec": {
   "display_name": "Python 3",
   "language": "python",
   "name": "python3"
  },
  "language_info": {
   "codemirror_mode": {
    "name": "ipython",
    "version": 3
   },
   "file_extension": ".py",
   "mimetype": "text/x-python",
   "name": "python",
   "nbconvert_exporter": "python",
   "pygments_lexer": "ipython3",
   "version": "3.8.5"
  }
 },
 "nbformat": 4,
 "nbformat_minor": 4
}
