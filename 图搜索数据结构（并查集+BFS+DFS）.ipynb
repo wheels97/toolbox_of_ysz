{
 "cells": [
  {
   "cell_type": "markdown",
   "metadata": {},
   "source": [
    "# 并查集"
   ]
  },
  {
   "cell_type": "code",
   "execution_count": null,
   "metadata": {},
   "outputs": [],
   "source": [
    "class UnionFind:\n",
    "    def __init__(self):\n",
    "        \"\"\"\n",
    "        记录每个节点的父节点，father是一个用字典储存的树结构\n",
    "        \"\"\"\n",
    "        self.father = {}\n",
    "    \n",
    "    def add(self,x):\n",
    "        \"\"\"\n",
    "        添加新节点\n",
    "        \"\"\"\n",
    "        if x not in self.father:\n",
    "            self.father[x] = None\n",
    "\n",
    "\n",
    "    def merge(self,x,y,val):\n",
    "        \"\"\"\n",
    "        合并两个节点\n",
    "        \"\"\"\n",
    "        root_x,root_y = self.find(x),self.find(y)\n",
    "        \n",
    "        if root_x != root_y:\n",
    "            self.father[root_x] = root_y\n",
    "\n",
    "    def is_connected(self,x,y):\n",
    "        \"\"\"\n",
    "        判断两节点是否相连\n",
    "        \"\"\"\n",
    "        return self.find(x) == self.find(y)\n",
    "\n",
    "\n",
    "    def find(self,x):\n",
    "        \"\"\"\n",
    "        查找根节点\n",
    "        路径压缩\n",
    "        \"\"\"\n",
    "        root = x\n",
    "\n",
    "        while self.father[root] != None:\n",
    "            root = self.father[root]\n",
    "\n",
    "        # 路径压缩：\n",
    "        while x != root:\n",
    "            original_father = self.father[x]\n",
    "            self.father[x] = root\n",
    "            x = original_father\n",
    "         \n",
    "        return root"
   ]
  },
  {
   "cell_type": "markdown",
   "metadata": {},
   "source": [
    "# BFS"
   ]
  },
  {
   "cell_type": "code",
   "execution_count": null,
   "metadata": {},
   "outputs": [],
   "source": [
    "def bfs(graph, start):\n",
    "    queue = [start] # 先把起点入队列\n",
    "    visited = set() # 访问过的点加入\n",
    "    visited.add(start)\n",
    " \n",
    "    while len(queue):\n",
    "        vertex = queue.pop(0)\n",
    "        # 找到队列首元素的连接点\n",
    "        for v in graph[vertex]:\n",
    "            if v not in visited:\n",
    "                queue.append(v)\n",
    "                visited.add(v)\n",
    "        # 打印弹出队列的该头元素\n",
    "        print(vertex, end=' ')\n",
    "#先找到与初始点连接的所有点，加入queue，再对queue。。。"
   ]
  },
  {
   "cell_type": "markdown",
   "metadata": {},
   "source": [
    "# DFS"
   ]
  },
  {
   "cell_type": "code",
   "execution_count": 1,
   "metadata": {},
   "outputs": [],
   "source": [
    "def dfs(i):\n",
    "    \"\"\"以 i 为起点开始深度优先搜索\n",
    "    \"\"\"\n",
    "    # 先进行标记\n",
    "    visited[i] = 1\n",
    "    # 继续搜索与 i 相连的城市\n",
    "    for j in range(n):\n",
    "        if isConnected[i][j] == 1 and not visited[j]:\n",
    "            dfs(j)\n",
    "#深度优先，就是会先从一条子树往深挖"
   ]
  }
 ],
 "metadata": {
  "kernelspec": {
   "display_name": "Python 3",
   "language": "python",
   "name": "python3"
  },
  "language_info": {
   "codemirror_mode": {
    "name": "ipython",
    "version": 3
   },
   "file_extension": ".py",
   "mimetype": "text/x-python",
   "name": "python",
   "nbconvert_exporter": "python",
   "pygments_lexer": "ipython3",
   "version": "3.7.1"
  }
 },
 "nbformat": 4,
 "nbformat_minor": 2
}
